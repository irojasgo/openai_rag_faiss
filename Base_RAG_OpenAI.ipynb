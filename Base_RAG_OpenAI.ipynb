{
  "nbformat": 4,
  "nbformat_minor": 0,
  "metadata": {
    "colab": {
      "provenance": []
    },
    "kernelspec": {
      "name": "python3",
      "display_name": "Python 3"
    },
    "language_info": {
      "name": "python"
    }
  },
  "cells": [
    {
      "cell_type": "markdown",
      "source": [
        "# Utilizing OpenAI LLMs for Retrieval Augmented Generation with FAISS\n",
        "\n",
        "This project harnesses OpenAI Large Language Models (LLMs) to execute retrieval augmented generation tasks, employing FAISS for efficient search and clustering. Data extracted from parsed PDFs serves as input, enabling comprehensive evaluation and testing of the retrieval augmented generation capabilities."
      ],
      "metadata": {
        "id": "lIokwUGMQb6b"
      }
    },
    {
      "cell_type": "markdown",
      "source": [
        "## Libraries are installed\n"
      ],
      "metadata": {
        "id": "GwncbTCLQo_V"
      }
    },
    {
      "cell_type": "code",
      "execution_count": null,
      "metadata": {
        "id": "u_DJDtS-2fcW",
        "colab": {
          "base_uri": "https://localhost:8080/"
        },
        "outputId": "1805084d-4827-453f-bbe7-c52dd1c7bb47"
      },
      "outputs": [
        {
          "output_type": "stream",
          "name": "stdout",
          "text": [
            "\u001b[?25l     \u001b[90m━━━━━━━━━━━━━━━━━━━━━━━━━━━━━━━━━━━━━━━━\u001b[0m \u001b[32m0.0/1.8 MB\u001b[0m \u001b[31m?\u001b[0m eta \u001b[36m-:--:--\u001b[0m\r\u001b[2K     \u001b[91m━━━━\u001b[0m\u001b[90m╺\u001b[0m\u001b[90m━━━━━━━━━━━━━━━━━━━━━━━━━━━━━━━━━━━\u001b[0m \u001b[32m0.2/1.8 MB\u001b[0m \u001b[31m5.7 MB/s\u001b[0m eta \u001b[36m0:00:01\u001b[0m\r\u001b[2K     \u001b[91m━━━━━━━━━━━━\u001b[0m\u001b[91m╸\u001b[0m\u001b[90m━━━━━━━━━━━━━━━━━━━━━━━━━━━\u001b[0m \u001b[32m0.6/1.8 MB\u001b[0m \u001b[31m8.6 MB/s\u001b[0m eta \u001b[36m0:00:01\u001b[0m\r\u001b[2K     \u001b[91m━━━━━━━━━━━━━━━━━━━━━\u001b[0m\u001b[90m╺\u001b[0m\u001b[90m━━━━━━━━━━━━━━━━━━\u001b[0m \u001b[32m1.0/1.8 MB\u001b[0m \u001b[31m9.2 MB/s\u001b[0m eta \u001b[36m0:00:01\u001b[0m\r\u001b[2K     \u001b[91m━━━━━━━━━━━━━━━━━━━━━━━━━━━━━━━━\u001b[0m\u001b[91m╸\u001b[0m\u001b[90m━━━━━━━\u001b[0m \u001b[32m1.5/1.8 MB\u001b[0m \u001b[31m10.7 MB/s\u001b[0m eta \u001b[36m0:00:01\u001b[0m\r\u001b[2K     \u001b[91m━━━━━━━━━━━━━━━━━━━━━━━━━━━━━━━━━━━━━━━\u001b[0m\u001b[91m╸\u001b[0m \u001b[32m1.8/1.8 MB\u001b[0m \u001b[31m11.5 MB/s\u001b[0m eta \u001b[36m0:00:01\u001b[0m\r\u001b[2K     \u001b[90m━━━━━━━━━━━━━━━━━━━━━━━━━━━━━━━━━━━━━━━━\u001b[0m \u001b[32m1.8/1.8 MB\u001b[0m \u001b[31m10.1 MB/s\u001b[0m eta \u001b[36m0:00:00\u001b[0m\n",
            "\u001b[?25h\u001b[31mERROR: pip's dependency resolver does not currently take into account all the packages that are installed. This behaviour is the source of the following dependency conflicts.\n",
            "llmx 0.0.15a0 requires cohere, which is not installed.\u001b[0m\u001b[31m\n",
            "\u001b[0m"
          ]
        }
      ],
      "source": [
        "!pip install openai --quiet\n",
        "!pip install langchain --quiet\n",
        "!pip install pypdf --quiet\n",
        "!pip install faiss-cpu --quiet\n",
        "!pip install tiktoken --quiet"
      ]
    },
    {
      "cell_type": "markdown",
      "source": [
        "## Google Drive is mounted. PDF files are stored there"
      ],
      "metadata": {
        "id": "1Y5PgZA8Qxyk"
      }
    },
    {
      "cell_type": "code",
      "source": [
        "from google.colab import drive\n",
        "drive.mount('/content/gdrive')"
      ],
      "metadata": {
        "colab": {
          "base_uri": "https://localhost:8080/"
        },
        "id": "plR269gO7koc",
        "outputId": "f74277d9-f693-4caf-95bc-e30c2d87dc94"
      },
      "execution_count": null,
      "outputs": [
        {
          "output_type": "stream",
          "name": "stdout",
          "text": [
            "Drive already mounted at /content/gdrive; to attempt to forcibly remount, call drive.mount(\"/content/gdrive\", force_remount=True).\n"
          ]
        }
      ]
    },
    {
      "cell_type": "markdown",
      "source": [
        "## OpenAI token is saved as enviroment variable"
      ],
      "metadata": {
        "id": "cmzwh89bQ0FW"
      }
    },
    {
      "cell_type": "code",
      "source": [
        "import os\n",
        "os.environ[\"OPENAI_API_KEY\"] = \"token\""
      ],
      "metadata": {
        "id": "Bfbp9fIM2j_s"
      },
      "execution_count": null,
      "outputs": []
    },
    {
      "cell_type": "markdown",
      "source": [
        "## Libraries are imported"
      ],
      "metadata": {
        "id": "0DaH20OzQ7r-"
      }
    },
    {
      "cell_type": "code",
      "source": [
        "from langchain.chat_models import ChatOpenAI\n",
        "import re\n",
        "import os\n",
        "from langchain.embeddings.openai import OpenAIEmbeddings\n",
        "from langchain.callbacks import get_openai_callback\n",
        "from langchain.chains.question_answering import load_qa_chain\n",
        "from langchain.vectorstores import FAISS\n",
        "import pickle\n",
        "from pypdf import PdfReader\n",
        "from langchain.text_splitter import RecursiveCharacterTextSplitter\n",
        "from langchain_community.document_loaders import PyPDFLoader"
      ],
      "metadata": {
        "id": "EMUUOKcz2pKs"
      },
      "execution_count": null,
      "outputs": []
    },
    {
      "cell_type": "markdown",
      "source": [
        "## Model is instantiated\n"
      ],
      "metadata": {
        "id": "JxJb3_mDQ_Ms"
      }
    },
    {
      "cell_type": "code",
      "source": [
        "chat = ChatOpenAI(model = 'gpt-3.5-turbo')"
      ],
      "metadata": {
        "id": "WqNLBdUL2r2J"
      },
      "execution_count": null,
      "outputs": []
    },
    {
      "cell_type": "markdown",
      "source": [
        "## PDF document is loaded"
      ],
      "metadata": {
        "id": "I1O2_s--RCZd"
      }
    },
    {
      "cell_type": "code",
      "source": [
        "pdf = \"/content/gdrive/MyDrive/GenAIEne2024/XBOX News Leaks.pdf\"\n",
        "loader = PyPDFLoader(pdf)\n",
        "pages = loader.load_and_split()"
      ],
      "metadata": {
        "id": "ykgh4gVm8zHv"
      },
      "execution_count": null,
      "outputs": []
    },
    {
      "cell_type": "markdown",
      "source": [
        "## REGEX is used to extract the pdf name. This info will be used to create the corresponding vector store"
      ],
      "metadata": {
        "id": "bi2djnhKRFHI"
      }
    },
    {
      "cell_type": "code",
      "source": [
        "store_name = re.findall(r'([^\\/]+)\\.pdf$',pdf)[0]\n",
        "store_name"
      ],
      "metadata": {
        "colab": {
          "base_uri": "https://localhost:8080/",
          "height": 35
        },
        "id": "e9fL5BIA-SSI",
        "outputId": "65f93ee5-3078-46b9-d5dd-fb543dd10845"
      },
      "execution_count": null,
      "outputs": [
        {
          "output_type": "execute_result",
          "data": {
            "text/plain": [
              "'XBOX News Leaks'"
            ],
            "application/vnd.google.colaboratory.intrinsic+json": {
              "type": "string"
            }
          },
          "metadata": {},
          "execution_count": 16
        }
      ]
    },
    {
      "cell_type": "markdown",
      "source": [
        "## Initialize OpenAI embeddings in order to turn text into vectors"
      ],
      "metadata": {
        "id": "3QfEY8PkRHsI"
      }
    },
    {
      "cell_type": "code",
      "source": [
        "embeddings = OpenAIEmbeddings()\n",
        "vectorstore = FAISS.from_documents(pages,embedding=embeddings)"
      ],
      "metadata": {
        "id": "PMzcH_pkA10L"
      },
      "execution_count": null,
      "outputs": []
    },
    {
      "cell_type": "markdown",
      "source": [
        "## Local vectorstore is created"
      ],
      "metadata": {
        "id": "EKJG55ZTRK24"
      }
    },
    {
      "cell_type": "code",
      "source": [
        "vectorstore.save_local(f\"/content/gdrive/MyDrive/GenAIEne2024/{store_name}_vector_store\")"
      ],
      "metadata": {
        "id": "xEopqZidA6ZQ"
      },
      "execution_count": null,
      "outputs": []
    },
    {
      "cell_type": "markdown",
      "source": [
        "## Query is created\n"
      ],
      "metadata": {
        "id": "Ajc0Ac_uRM8X"
      }
    },
    {
      "cell_type": "code",
      "source": [
        "query = 'What is this document about?'"
      ],
      "metadata": {
        "id": "Eay0f_778zRG"
      },
      "execution_count": null,
      "outputs": []
    },
    {
      "cell_type": "markdown",
      "source": [
        "## Similarity search is performed with the aforementioned query. The top 3 most simmilar documents are retireved in order to be used as context."
      ],
      "metadata": {
        "id": "T5W5x00URP93"
      }
    },
    {
      "cell_type": "code",
      "source": [
        "docs = vectorstore.similarity_search(query=query,k=3)\n",
        "chain = load_qa_chain(llm=chat, chain_type= \"stuff\", verbose=True)"
      ],
      "metadata": {
        "id": "rPCrufnBBMjk"
      },
      "execution_count": null,
      "outputs": []
    },
    {
      "cell_type": "markdown",
      "source": [
        "## Executing the QA chain to retrieve info and create response"
      ],
      "metadata": {
        "id": "S-rJiEsnRTvV"
      }
    },
    {
      "cell_type": "code",
      "source": [
        "with get_openai_callback() as cb:\n",
        "  response = chain.run(input_documents = docs, question = query)\n",
        "  print(cb)"
      ],
      "metadata": {
        "colab": {
          "base_uri": "https://localhost:8080/"
        },
        "id": "YXMsM9eIBMmC",
        "outputId": "11cb6506-1cc0-4b63-85a2-7d7291be7f45"
      },
      "execution_count": null,
      "outputs": [
        {
          "output_type": "stream",
          "name": "stderr",
          "text": [
            "/usr/local/lib/python3.10/dist-packages/langchain_core/_api/deprecation.py:117: LangChainDeprecationWarning: The function `run` was deprecated in LangChain 0.1.0 and will be removed in 0.2.0. Use invoke instead.\n",
            "  warn_deprecated(\n"
          ]
        },
        {
          "output_type": "stream",
          "name": "stdout",
          "text": [
            "\n",
            "\n",
            "\u001b[1m> Entering new StuffDocumentsChain chain...\u001b[0m\n",
            "\n",
            "\n",
            "\u001b[1m> Entering new LLMChain chain...\u001b[0m\n",
            "Prompt after formatting:\n",
            "\u001b[32;1m\u001b[1;3mSystem: Use the following pieces of context to answer the user's question. \n",
            "If you don't know the answer, just say that you don't know, don't try to make up an answer.\n",
            "----------------\n",
            "Bethesda   \n",
            "Every game mentioned so far is a previously released game, but what about new ones? Some \n",
            "major upcoming Xbox games could be going multiplatform, too. According to The Verge , Xbox \n",
            "exclusive  Indiana Jones and the Great Circle  could be exclusive no more. Sources reportedly told \n",
            "the site that Xbox was considering launching the action -adventure title on PS5. The exact timing \n",
            "of that is unclear. There’s a chance, though, that it launches alongside the Xbox Series X/S \n",
            "version later this year. If that happens, it’ll be a major disruption of the usual “console exclusive” \n",
            "strategy and a signal that Xbox is plotting a significant strategic shift.\n",
            "\n",
            "Rare   \n",
            "Xbox’s multiplatform future may extend to more than just brand -new releases. 2018’s Sea of \n",
            "Thieves  may also be set for a Switch and PlayStation launch. That speculation originally came \n",
            "from Giant Bomb’s Jeff Grubb, who said he’d heard buzzing about a potential port. While that \n",
            "claim was a little loose initially, it was backed up by Game File’s Stephen Totilo and VGC’s Andy \n",
            "Robinson . Totilo notes that he’d only heard about a potential PS5 port.  If that does come to \n",
            "fruition, Totilo said that he’d heard rumors of an early 2024 launch.  \n",
            "Indiana Jones and the Great Circle\n",
            "\n",
            "Related  \n",
            "• An Xbox game could be coming to Switch. Here are the most likely candidates  \n",
            "• Our favorite Xbox Series X games of 2023: Starfield, Hi -Fi Rush, and more  \n",
            "• The new 1TB PS5 has more usable storage space than the Xbox Series X  \n",
            "Hi-Fi Rush  \n",
            "Xbox Game Studios   \n",
            "Starfield  isn’t the only 2023 Xbox exclusive that could be headed to other platforms. It appears \n",
            "as though Hi-Fi Rush  will be coming to Nintendo Switch and PS5. This rumor has been circulating \n",
            "since early January and has been corroborated several times since. It initially came from leaker \n",
            "Nate the Hate , who claimed that a critically acclaimed Xbox game was headed to other \n",
            "platforms. ResetEra  user lolilolailo, another leaker with a decent track record, expanded on that \n",
            "claim, pinning down Hi -Fi Rush as the game in question. If that rumor is correct, we could find \n",
            "out about it soon, as speculation indicates that a February Nintendo Direct  may be right around \n",
            "the corner.  \n",
            "Sea of Thieves\n",
            "Human: What is this document about?\u001b[0m\n",
            "\n",
            "\u001b[1m> Finished chain.\u001b[0m\n",
            "\n",
            "\u001b[1m> Finished chain.\u001b[0m\n",
            "Tokens Used: 627\n",
            "\tPrompt Tokens: 572\n",
            "\tCompletion Tokens: 55\n",
            "Successful Requests: 1\n",
            "Total Cost (USD): $0.0009679999999999999\n"
          ]
        }
      ]
    },
    {
      "cell_type": "markdown",
      "source": [
        "## Displaying response"
      ],
      "metadata": {
        "id": "3q40i0yVRXAQ"
      }
    },
    {
      "cell_type": "code",
      "source": [
        "print(response)"
      ],
      "metadata": {
        "colab": {
          "base_uri": "https://localhost:8080/"
        },
        "id": "T6lb3f1xBMoY",
        "outputId": "5d639a7e-e332-4744-91c5-27a500f773b6"
      },
      "execution_count": null,
      "outputs": [
        {
          "output_type": "stream",
          "name": "stdout",
          "text": [
            "This document is about potential upcoming Xbox games, specifically Indiana Jones and the Great Circle, Sea of Thieves, and Hi-Fi Rush, potentially being released on other platforms such as PlayStation and Nintendo Switch. It discusses rumors and speculation surrounding these games and their potential multiplatform releases.\n"
          ]
        }
      ]
    },
    {
      "cell_type": "code",
      "source": [],
      "metadata": {
        "id": "vtT2XIdT2K0K"
      },
      "execution_count": null,
      "outputs": []
    }
  ]
}